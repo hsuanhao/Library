{
 "cells": [
  {
   "cell_type": "markdown",
   "metadata": {},
   "source": [
    "# Solve Ordinary Differential Equations (ODEs) by Euler Algorithm\n",
    "\n",
    "In this notebook, I will use some examples to test ODE library I wrote. "
   ]
  },
  {
   "cell_type": "code",
   "execution_count": 1,
   "metadata": {},
   "outputs": [],
   "source": [
    "import numpy as np\n",
    "import ode # Self-written library\n",
    "import matplotlib.pyplot as plt\n",
    "%matplotlib inline"
   ]
  },
  {
   "cell_type": "markdown",
   "metadata": {},
   "source": [
    "## Dynamical Form for ODEs (Theory)\n",
    "\n",
    "A standard form for ODEs can be to express ODEs of *any order* as $N$ first-order ODEs simultaneously:\n",
    "\n",
    "$$ \\begin{matrix} \\frac{dy^{(0)}}{dt} &=  f^{(0)}(t, y^{(i)}) \\\\ \n",
    "                  \\frac{dy^{(1)}}{dt} &=  f^{(1)}(t, y^{(i)}) \\\\\n",
    "                  \\vdots & \\vdots \\\\\n",
    "                  \\frac{dy^{(N-1)}}{dt} &=  f^{(N-1)}(t, y^{(i)}) \n",
    "\\end{matrix}$$\n",
    "\n",
    "where the $y^{(i)}$ dependence of $f$ indicates that it may depend on all the components of $y$, but not on the derivatives $dy^{(i)}/dt$. We can express these equations in more compact form by $N$-dimensional vecotrs $\\bf y$ and $\\bf f$:\n",
    "\n",
    "$$  d {\\bf y}(t)/dt = {\\bf f}(t, {\\bf y}) \\tag{1}$$\n",
    "\n",
    "where $\\bf y$ and $\\bf f$ are defined as\n",
    "\n",
    "$${\\bf y} = \\begin{bmatrix} y^{(0)}(t) \\\\ \n",
    "                  y^{(1)}(t) \\\\\n",
    "                  \\vdots \\\\\n",
    "                  y^{(N-1)}(t) \n",
    "           \\end{bmatrix}; \\qquad\n",
    "  {\\bf f} = \\begin{bmatrix} f^{(0)}(t, y^{(i)}) \\\\ \n",
    "                  f^{(1)}(t, y^{(i)}) \\\\\n",
    "                  \\vdots \\\\\n",
    "                  f^{(N-1)}(t, y^{(i)}) \n",
    "           \\end{bmatrix}.        $$"
   ]
  },
  {
   "cell_type": "markdown",
   "metadata": {},
   "source": [
    "## Solve ODE by Euler Algorithm\n",
    "\n",
    "Euler's rule is a simple algorithm to integrate the the differential equation (1) by one step. One simply substitutes the forward difference algorithm for the derivative:\n",
    "\n",
    "$$ \\frac{d {\\bf y}(t)}{dt} \\simeq \\frac{{\\bf y}(t_{n+1}) - {\\bf y}(t_n)}{h} = {\\bf f} (t, {\\bf y})$$\n",
    "\n",
    "$$\\Rightarrow {\\bf y}_{n+1} \\simeq {\\bf y}_{n} + h {\\bf f}(t_n, {\\bf y}_n)$$\n",
    "\n",
    "where $y_n \\equiv y(t_n)$ is the value of y at time $t_n$. Note that the approximation,\n",
    "\n",
    "$$ \\frac{d {\\bf y}(t)}{dt} \\simeq \\frac{{\\bf y}(t_{n+1}) - {\\bf y}(t_n)}{h}, $$\n",
    "\n",
    "yields the error in order ${\\cal O}(h^2)$ so the error in Euler's rule is also in order ${\\cal O}(h^2)$.\n"
   ]
  },
  {
   "cell_type": "markdown",
   "metadata": {},
   "source": [
    "### Example 1\n",
    "\n",
    "Let's consider the following initial value problem:\n",
    "\n",
    "$$ y' = - y + sin(x), \\qquad y(0) = 1 $$\n",
    "\n",
    "Express above ODE in form of Eq. (1):\n",
    "\n",
    "$$ {\\bf y} = [y(x)], \\qquad {\\bf f}(x, {\\bf y}) = [-y(x) + \\sin(x)]$$\n",
    "\n",
    "with initial condition\n",
    "\n",
    "$$ {\\bf y}_0 = [y(0)].$$\n",
    "\n",
    "We consider $x$ interval from 0 to 10."
   ]
  },
  {
   "cell_type": "code",
   "execution_count": 2,
   "metadata": {},
   "outputs": [],
   "source": [
    "def f(x, y):\n",
    "    \"\"\" Define f(x, y) = -y + sin(x) \"\"\"\n",
    "    return (-1)*y + np.sin(x)   "
   ]
  },
  {
   "cell_type": "markdown",
   "metadata": {},
   "source": [
    "The above function is $f^{(N-1)}(x, y^{(i)}) $ in ${\\bf f}(x, {\\bf y}) $."
   ]
  },
  {
   "cell_type": "code",
   "execution_count": 3,
   "metadata": {},
   "outputs": [],
   "source": [
    "# number of steps is set as 101 by default\n",
    "r = ode.Euler(f, y0=[1], tspan=[0, 10])"
   ]
  },
  {
   "cell_type": "code",
   "execution_count": 4,
   "metadata": {},
   "outputs": [],
   "source": [
    "x, y = r.integrate()"
   ]
  },
  {
   "cell_type": "code",
   "execution_count": 5,
   "metadata": {},
   "outputs": [
    {
     "data": {
      "image/png": "[encoded data removed]",
      "text/plain": [
       "<Figure size 432x288 with 1 Axes>"
      ]
     },
     "metadata": {
      "needs_background": "light"
     },
     "output_type": "display_data"
    }
   ],
   "source": [
    "# Plot y vs x\n",
    "plt.plot(x, np.squeeze(y), 'o')\n",
    "plt.xlabel('x')\n",
    "plt.ylabel('y(x)')\n",
    "plt.title(\"Approximate Solution with Forward Euler's Method\")\n",
    "plt.show()"
   ]
  },
  {
   "cell_type": "markdown",
   "metadata": {},
   "source": [
    "The behavior of the results is consistent with the [reference](http://faculty.washington.edu/heathml/2018spring307/euler_method.pdf)."
   ]
  },
  {
   "cell_type": "markdown",
   "metadata": {},
   "source": [
    "### Example 2\n",
    "\n",
    "The van der Pol equation is a second order ODE: [[Reference](https://www.mathworks.com/help/matlab/ref/ode23.html)]\n",
    "\n",
    "$$ y'' - \\mu (1-y^2) y' + y = 0,$$\n",
    "\n",
    "where $\\mu > 0$ is a scalar parameter. Here, we consider $\\mu = 1$.\n",
    "\n",
    "We can rewrite this equation as a system of first-order ODEs. First, we define the following quantities,\n",
    "$$ y^{(0)} \\equiv y(t),  \\qquad y^{(1)} \\equiv y' = \\frac{d y^{(0)}}{dt}$$\n",
    "\n",
    "so $y''$ can be expressed as\n",
    "$$ y'' = \\frac{d y^{(1)}}{dt} = \\mu (1- [y^{(0)}]^2) y^{(1)} - y^{(0)}.$$\n",
    "\n",
    "Thus, we can express the ODE in matrix form,\n",
    "\n",
    "$$  d {\\bf y}(t)/dt = {\\bf f}(t, {\\bf y}),$$\n",
    "\n",
    "where\n",
    "$$ {\\bf y} = \\begin{bmatrix} y^{(0)}\\\\\n",
    "                             y^{(1)}\\end{bmatrix}, \\qquad \n",
    "   {\\bf f}(t, {\\bf y}) = \\begin{bmatrix} y^{(1)}\\\\\n",
    "                                         \\mu (1- [y^{(0)}]^2) y^{(1)} - y^{(0)} \\end{bmatrix}$$\n",
    "                                         \n",
    "Here, we consider the initial conditions, \n",
    "\n",
    "$$ {\\bf y}_0 = \\begin{bmatrix} 2\\\\\n",
    "                             0\\end{bmatrix},$$\n",
    "                             \n",
    "and time interval from 0 to 20."
   ]
  },
  {
   "cell_type": "code",
   "execution_count": 6,
   "metadata": {},
   "outputs": [],
   "source": [
    "def f(t, y):\n",
    "    \"\"\" \n",
    "    Define f(t, y) = \\mu (1- [y^{(0)}]^2) y^{(1)} - y^{(0)}\n",
    "    \n",
    "    y is an array with shape (2,)\n",
    "    y[0] = y^{(0)}; y[1] = y^{(1)}\n",
    "    \"\"\"\n",
    "    mu = 1\n",
    "    return mu*(1- y[0]**2)*y[1] - y[0]"
   ]
  },
  {
   "cell_type": "markdown",
   "metadata": {},
   "source": [
    "The above function is $f^{(N-1)}(t, y^{(i)}) $ in ${\\bf f}(t, {\\bf y}) $."
   ]
  },
  {
   "cell_type": "code",
   "execution_count": 7,
   "metadata": {},
   "outputs": [],
   "source": [
    "# number of steps is set as 101 by default\n",
    "r = ode.Euler(f, y0=[2, 0], tspan=[0, 20], steps = 201)"
   ]
  },
  {
   "cell_type": "code",
   "execution_count": 8,
   "metadata": {},
   "outputs": [],
   "source": [
    "t, y = r.integrate()"
   ]
  },
  {
   "cell_type": "code",
   "execution_count": 9,
   "metadata": {},
   "outputs": [
    {
     "data": {
      "image/png": "[encoded data removed]",
      "text/plain": [
       "<Figure size 576x432 with 1 Axes>"
      ]
     },
     "metadata": {
      "needs_background": "light"
     },
     "output_type": "display_data"
    }
   ],
   "source": [
    "# Plot y and y' vs x\n",
    "plt.figure(figsize=(8,6))\n",
    "plt.plot(t, np.squeeze(y[0,:]), 'o', label = '$y^{(0)}(t)$')\n",
    "plt.plot(t, np.squeeze(y[1,:]), 's', label = '$y^{(1)}(t)$')\n",
    "plt.xlabel('t')\n",
    "plt.ylabel('Solution y')\n",
    "plt.legend()\n",
    "plt.title(\"Solution of van der Pol Equation ($\\mu$=1) wiht Forward Euler's Method\")\n",
    "plt.show()"
   ]
  },
  {
   "cell_type": "markdown",
   "metadata": {},
   "source": [
    "The behaviors of $y$ and $y'$ are consistent with the results on Matlab [website](https://www.mathworks.com/help/matlab/ref/ode23.html). "
   ]
  },
  {
   "cell_type": "markdown",
   "metadata": {},
   "source": [
    "### Example 3:\n",
    "\n",
    "In the end, we consider the ODE which can be solved analytically in order to compare the accuracy of Euler's algorithm with exact solution.\n",
    "\n",
    "$$ y'' = a $$\n",
    "\n",
    "where $a$ is a constant. Here, we consider $a = -10$. \n",
    "\n",
    "One can solve the above ODE exactly. The solutions are given by\n",
    "$$ y(t) = y(0) + y'(0) t + \\frac{1}{2}a t^2,  \\qquad y'(t) = y'(0) + at.$$\n",
    "\n",
    "Similar to previous example, we can express the ODE in matrix form,\n",
    "\n",
    "$$  d {\\bf y}(t)/dt = {\\bf f}(t, {\\bf y}),$$\n",
    "\n",
    "where\n",
    "$$ {\\bf y} = \\begin{bmatrix} y^{(0)}\\\\\n",
    "                             y^{(1)}\\end{bmatrix}, \\qquad \n",
    "   {\\bf f}(t, {\\bf y}) = \\begin{bmatrix} y^{(1)}\\\\\n",
    "                                         a \\end{bmatrix}$$\n",
    "                                         \n",
    "Here, we consider the initial conditions, \n",
    "\n",
    "$$ {\\bf y}_0 = \\begin{bmatrix} 0\\\\\n",
    "                             20\\end{bmatrix},$$\n",
    "                             \n",
    "and time interval from 0 to 20."
   ]
  },
  {
   "cell_type": "code",
   "execution_count": 10,
   "metadata": {},
   "outputs": [],
   "source": [
    "def f(t, y):\n",
    "    \"\"\" \n",
    "    Define f(t, y) = a \n",
    "    \n",
    "    y is an array with shape (2,)\n",
    "    y[0] = y^{(0)}; y[1] = y^{(1)}\n",
    "    \"\"\"\n",
    "    return -10.0"
   ]
  },
  {
   "cell_type": "code",
   "execution_count": 11,
   "metadata": {},
   "outputs": [],
   "source": [
    "# number of steps is set as 101 by default\n",
    "r = ode.Euler(f, y0=[0, 20], tspan=[0, 5])"
   ]
  },
  {
   "cell_type": "code",
   "execution_count": 12,
   "metadata": {},
   "outputs": [],
   "source": [
    "t, y = r.integrate()"
   ]
  },
  {
   "cell_type": "code",
   "execution_count": 13,
   "metadata": {},
   "outputs": [],
   "source": [
    "def position(t):\n",
    "    y_0 = 0\n",
    "    v_0 = 20\n",
    "    a = -10.0\n",
    "    return y_0 + v_0*t + (a/2.0)*t**2"
   ]
  },
  {
   "cell_type": "code",
   "execution_count": 15,
   "metadata": {},
   "outputs": [
    {
     "data": {
      "image/png": "[encoded data removed]",
      "text/plain": [
       "<Figure size 576x432 with 1 Axes>"
      ]
     },
     "metadata": {
      "needs_background": "light"
     },
     "output_type": "display_data"
    }
   ],
   "source": [
    "# Plot y and y' vs x\n",
    "plt.figure(figsize=(8,6))\n",
    "plt.plot(t, np.squeeze(y[0,:]), 'o', label='Euler')\n",
    "plt.plot(t, position(t), 's', label='exact')\n",
    "plt.xlabel('t')\n",
    "plt.ylabel('Solution y')\n",
    "plt.legend()\n",
    "plt.title(\"Solution with Forward Euler's Method\")\n",
    "plt.show()"
   ]
  },
  {
   "cell_type": "markdown",
   "metadata": {},
   "source": [
    "As one can see in above figure, when $t$ becomes larger (about $t> 1$), $y(t)$ obtained from Euler algorithm starts to deviate from the $y(t)$ from exact solution. If one wants to get more accurate results, one has to implement other algorithms, like Runge-Kutta Algorithm, to get more accurate results."
   ]
  },
  {
   "cell_type": "code",
   "execution_count": null,
   "metadata": {},
   "outputs": [],
   "source": []
  }
 ],
 "metadata": {
  "kernelspec": {
   "display_name": "Python 3",
   "language": "python",
   "name": "python3"
  },
  "language_info": {
   "codemirror_mode": {
    "name": "ipython",
    "version": 3
   },
   "file_extension": ".py",
   "mimetype": "text/x-python",
   "name": "python",
   "nbconvert_exporter": "python",
   "pygments_lexer": "ipython3",
   "version": "3.6.7"
  }
 },
 "nbformat": 4,
 "nbformat_minor": 2
}
